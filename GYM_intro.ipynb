{
 "cells": [
  {
   "cell_type": "markdown",
   "metadata": {},
   "source": [
    "## Sample Code\n",
    "This should serve as a small example for the different parts of the Gym environment that we will be using. Feel free to make a copy and start your project off of this, please just don't edit it :)"
   ]
  },
  {
   "cell_type": "markdown",
   "metadata": {},
   "source": [
    "Gotta import the gym\n",
    " - __Check the required packages below__\n",
    " - at least i didn't have them installed so you might have to download them as well."
   ]
  },
  {
   "cell_type": "code",
   "execution_count": 2,
   "metadata": {},
   "outputs": [],
   "source": [
    "\"\"\"\n",
    "Required Packages (can copy and paste commands)\n",
    "pip install swig\n",
    "pip install \"gymnasium[box2d]\"\n",
    "\"\"\"\n",
    "import gymnasium as gym\n",
    "import pygame"
   ]
  },
  {
   "cell_type": "markdown",
   "metadata": {},
   "source": [
    "Here is an example of how to load the environment, and move randomly (a policy that has equal weighting for all actions in the action space)\n",
    " - __If you want to see the lunar lander in action!__\n",
    " - when calling `gym.make`, set `render_mode=\"human\"`\n",
    " - __WARNING__: Pygame does not work well with jupyter notebooks, so setting `render_mode=\"human\"` will cause the entire kernel to crash after the render is complete.\n",
    " - Probably want to test in either a .py file, or something that isn't taking a long time to run so that you wont have to restart the whole kernel."
   ]
  },
  {
   "cell_type": "code",
   "execution_count": 11,
   "metadata": {},
   "outputs": [],
   "source": [
    "env = gym.make(\"LunarLander-v3\")\n",
    "#env = gym.make(\"LunarLander-v3\", render_mode=\"human\")\n",
    "observation, info = env.reset()\n",
    "\n",
    "#take 100 random actions\n",
    "for action_number in range(100):\n",
    "    #take a random action from the action space\n",
    "    action = env.action_space.sample()\n",
    "    #use the action in the environment\n",
    "    observation, reward, terminated, truncated, info = env.step(action)\n",
    "\n",
    "    #if terminated or truncated are True, then it means this run of the simulation is over\n",
    "    if terminated or truncated:\n",
    "        env.reset() #how to restart the environment after a simulation is complete\n",
    "\n",
    "env.close()\n",
    "if env.render_mode == \"human\":\n",
    "    pygame.quit() #doesn't even do anything on notebooks, but this is how you would close it in a .py file"
   ]
  },
  {
   "cell_type": "markdown",
   "metadata": {},
   "source": [
    "Here is pretty much the same example, but instead of acting randomly for 100 actions, we act randomly until one run of the simulation is complete. Which is probably the more common way we will be interfacing with the simulation."
   ]
  },
  {
   "cell_type": "code",
   "execution_count": 12,
   "metadata": {},
   "outputs": [
    {
     "name": "stdout",
     "output_type": "stream",
     "text": [
      "Reward: -100\n"
     ]
    }
   ],
   "source": [
    "env = gym.make(\"LunarLander-v3\")\n",
    "\n",
    "observation, info = env.reset()\n",
    "terminated, truncated = False, False\n",
    "\n",
    "# Loop for 10 simulations\n",
    "for simulations in range(10):\n",
    "# While simulation is still active\n",
    "\n",
    "    while not terminated and not truncated:\n",
    "        #take a random action from the action space\n",
    "        action = env.action_space.sample()\n",
    "        #use the action in the environment\n",
    "        observation, reward, terminated, truncated, info = env.step(action)\n",
    "    env.reset()\n",
    "\n",
    "env.close()\n",
    "print(f'Reward: {reward}')"
   ]
  },
  {
   "cell_type": "markdown",
   "metadata": {},
   "source": [
    "## Key Variables\n",
    "\n",
    "#### State\n",
    "Our state is an 8-dimensional vector, these are the indexes for the different values. In the code above it is referenced as `observation`\n",
    "\n",
    "| Index  | Type | Purpose |\n",
    "|---|---|---|\n",
    "| 0 | float | X coordinate |\n",
    "| 1 | float | Y coordinate |\n",
    "| 2 | float | X Velocity |\n",
    "| 3 | float | Y Velocity |\n",
    "| 4 | float | Angle |\n",
    "| 5 | float | Angular Velocity |\n",
    "| 6 | boolean | left-leg in contact with floor|\n",
    "| 7 | boolean | right-leg in contact with floor |\n",
    "\n",
    "#### Action Space\n",
    "Our action space is very similar to the one from the Markov-Decision Process (MDP) lab. It's a 4 discrete dimensional vector indexed as such\n",
    "| Value | Purpose |\n",
    "|---|---|\n",
    "| 0 | Do Notihng |\n",
    "| 1 | Fire left orientation engine |\n",
    "| 2 | Fire main engine |\n",
    "| 3 | Fire right orientation engine |\n",
    "\n",
    "#### Rewards\n",
    "The reward after each action. This is returned after every `env.step()` call. For each step the reward:\n",
    "\n",
    "- **Increases** the closer the lander is to the landing pad and **decreases** the further it is.\n",
    "- **Increases** the slower the lander is moving and **decreases** the faster it is moving.\n",
    "- **Decreases** the more the lander is tilted (i.e., the angle is not horizontal).\n",
    "- **Increases** by **10 points** for each leg that is in contact with the ground.\n",
    "- **Decreases** by **0.03 points** for each frame a side engine is firing.\n",
    "- **Decreases** by **0.3 points** for each frame the main engine is firing.\n",
    "\n",
    "Additionally, the episode receives:\n",
    "\n",
    "- **-100 points** for crashing.\n",
    "- **+100 points** for landing safely.\n",
    "\n",
    "An episode is considered a **solution** if it scores at least **200 points**. This means that the agents need to learn how to land with __minimal engine usage__.\n",
    "\n",
    "_For more information_ [go to the docs](https://gymnasium.farama.org/environments/box2d/lunar_lander/)"
   ]
  }
 ],
 "metadata": {
  "kernelspec": {
   "display_name": "cogs118a",
   "language": "python",
   "name": "python3"
  },
  "language_info": {
   "codemirror_mode": {
    "name": "ipython",
    "version": 3
   },
   "file_extension": ".py",
   "mimetype": "text/x-python",
   "name": "python",
   "nbconvert_exporter": "python",
   "pygments_lexer": "ipython3",
   "version": "3.12.5"
  }
 },
 "nbformat": 4,
 "nbformat_minor": 2
}
